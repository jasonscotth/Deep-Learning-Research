{
 "cells": [
  {
   "cell_type": "markdown",
   "id": "6f464635-7a33-4b32-83ba-648fa47170f5",
   "metadata": {},
   "source": [
    "# 2023 Research Template"
   ]
  },
  {
   "cell_type": "code",
   "execution_count": 1,
   "id": "f464e2b7-d452-4535-8bac-ceb2ffa97481",
   "metadata": {},
   "outputs": [
    {
     "name": "stderr",
     "output_type": "stream",
     "text": [
      "2023-08-10 19:52:38.601264: I tensorflow/core/platform/cpu_feature_guard.cc:193] This TensorFlow binary is optimized with oneAPI Deep Neural Network Library (oneDNN) to use the following CPU instructions in performance-critical operations:  SSE4.1 SSE4.2 AVX FMA\n",
      "To enable them in other operations, rebuild TensorFlow with the appropriate compiler flags.\n"
     ]
    }
   ],
   "source": [
    "#import tools\n",
    "import numpy as np\n",
    "import tensorflow as tf\n",
    "import tensorflow.keras as keras\n",
    "from tensorflow.keras import datasets, layers, optimizers, Sequential, metrics\n",
    "import matplotlib.pyplot as plt\n",
    "from array import *\n",
    "import random\n",
    "from sklearn.model_selection import StratifiedKFold"
   ]
  },
  {
   "cell_type": "code",
   "execution_count": 2,
   "id": "2ec22d1c-60bf-4ef1-89b3-5201ba8876d7",
   "metadata": {},
   "outputs": [
    {
     "name": "stdout",
     "output_type": "stream",
     "text": [
      "(871, 20100) (696, 20100)\n"
     ]
    }
   ],
   "source": [
    "#import dataset & labels\n",
    "x_data = np.loadtxt('/home/jovyan/2023 Research/CC200_X_corr.csv', delimiter = ',')\n",
    "y_data = np.loadtxt('/home/jovyan/2023 Research/Y.csv', delimiter = ',')\n",
    "x_data_sampled_train = np.empty((696,x_data.shape[1]))\n",
    "x_data_sampled_val = np.empty((175,x_data.shape[1]))\n",
    "y_data_sampled_train = np.empty(696)\n",
    "y_data_sampled_val = np.empty(175)\n",
    "type(x_data)\n",
    "print(x_data.shape, x_data_sampled_train.shape)"
   ]
  },
  {
   "cell_type": "code",
   "execution_count": 3,
   "id": "0e75a3cb-6095-4cc0-9b79-4c35b84cc872",
   "metadata": {},
   "outputs": [
    {
     "data": {
      "text/plain": [
       "'\\n#check for data normalization dynamic to the dimensions of the set\\nmax = 0.0\\nmin = 0.0\\ncount = 0\\ntemp = 0.0\\n\\nfor i in range(x_data.shape[0]):\\n    for j in range(x_data.shape[1]):\\n        temp = x_data[i][j]\\n        count += 1\\n        if temp > max:\\n            max = temp\\n        elif temp < min:\\n            min = temp\\n\\nprint(\"Checking for normalization of the data set...\")\\nprint(\"Max Value: {a:1.5f}\".format(a = max))\\nprint(\"Min Value: {a:1.5f}\".format(a = min))\\nprint(\"Elements Checked:\", count)\\n'"
      ]
     },
     "execution_count": 3,
     "metadata": {},
     "output_type": "execute_result"
    }
   ],
   "source": [
    "\"\"\"\n",
    "#check for data normalization dynamic to the dimensions of the set\n",
    "max = 0.0\n",
    "min = 0.0\n",
    "count = 0\n",
    "temp = 0.0\n",
    "\n",
    "for i in range(x_data.shape[0]):\n",
    "    for j in range(x_data.shape[1]):\n",
    "        temp = x_data[i][j]\n",
    "        count += 1\n",
    "        if temp > max:\n",
    "            max = temp\n",
    "        elif temp < min:\n",
    "            min = temp\n",
    "\n",
    "print(\"Checking for normalization of the data set...\")\n",
    "print(\"Max Value: {a:1.5f}\".format(a = max))\n",
    "print(\"Min Value: {a:1.5f}\".format(a = min))\n",
    "print(\"Elements Checked:\", count)\n",
    "\"\"\""
   ]
  },
  {
   "cell_type": "code",
   "execution_count": 4,
   "id": "49088758-7109-4297-ad41-b7191e5c7d4c",
   "metadata": {},
   "outputs": [
    {
     "name": "stdout",
     "output_type": "stream",
     "text": [
      "Distribution of Subgroups in Population...\n",
      "ASD Positive: 46.27% 403\n",
      "ASD Negative: 53.73% 468\n"
     ]
    }
   ],
   "source": [
    "#measure percent of positive vs negative samples in our set\n",
    "true = 0\n",
    "false = 0\n",
    "true_rate = 0.0\n",
    "false_rate = 0.0\n",
    "#pos samples 403\n",
    "#neg samples 468\n",
    "\n",
    "for x in range(x_data.shape[0]):\n",
    "    if y_data[x] == 1: \n",
    "        true += 1\n",
    "    else:\n",
    "        false += 1\n",
    "    \n",
    "true_rate = true/(true+false) * 100\n",
    "false_rate = false/(true+false) * 100\n",
    "\n",
    "print(\"Distribution of Subgroups in Population...\")\n",
    "print(\"ASD Positive: {a:2.2f}%\".format(a = true_rate), true)\n",
    "print(\"ASD Negative: {a:2.2f}%\".format(a = false_rate), false)"
   ]
  },
  {
   "cell_type": "code",
   "execution_count": 5,
   "id": "ce2a2b63-17bb-40d3-a75a-a33cc7d59cd9",
   "metadata": {},
   "outputs": [],
   "source": [
    "def stratifiedRandomSampling():\n",
    "    X = x_data\n",
    "    y = y_data\n",
    "    num_splits = 5\n",
    "    skf = StratifiedKFold(n_splits = num_splits, shuffle = True)\n",
    "    skf.get_n_splits(X, y)\n",
    "    skf = list(skf.split(X, y))\n",
    "    print(len(skf), len(skf[0]), len(skf[0][0]))\n",
    "    #for i, (train_index, test_index) in enumerate(skf.split(X, y)):\n",
    "        #print(f\"Fold {i}:\")\n",
    "        #print(f\"  Train: index={train_index}\")\n",
    "        #print(f\"  Test:  index={test_index}\")\n",
    "        \n",
    "    #train_index[696], test_index[175] = enumerate(skf.split(X, y))\n",
    "    \n",
    "    for x in range (696):\n",
    "        target = skf[0][0][x]\n",
    "        for y in range(x_data.shape[1]):\n",
    "            x_data_sampled_train[x][y] = x_data[target][y]\n",
    "        y_data_sampled_train[x] = y_data[target]\n",
    "    for x in range (175):\n",
    "        target = skf[0][1][x]\n",
    "        for y in range(x_data.shape[1]):\n",
    "            x_data_sampled_val[x][y] = x_data[target][y]\n",
    "        y_data_sampled_val[x] = y_data[target]\n",
    "        \n",
    "    #y_data_sampled_train\n",
    "    \n",
    "    return\n",
    "    "
   ]
  },
  {
   "cell_type": "code",
   "execution_count": 6,
   "id": "604d2a4b-174b-4f08-addc-f2d84ffc1378",
   "metadata": {},
   "outputs": [],
   "source": [
    "def modelConstructor():\n",
    "    y = x = keras.layers.Input(shape=x_data_sampled_train.shape[1:])\n",
    "    y = keras.layers.Flatten()(y)\n",
    "    y = keras.layers.Dropout(0.1)(y)\n",
    "    y = keras.layers.Dense(1000,activation=keras.activations.relu)(y)\n",
    "    #y = keras.layers.Dense(1000,activation=keras.activations.relu)(y)\n",
    "    y = keras.layers.Dense(len(np.unique(y_data_sampled_train)),\n",
    "                               activation=keras.activations.softmax)(y)\n",
    "    model = keras.Model(x,y)\n",
    "    #model.summary()\n",
    "    model.compile(loss=keras.losses.SparseCategoricalCrossentropy(),\n",
    "                 metrics=keras.metrics.SparseCategoricalAccuracy(),\n",
    "                 optimizer=keras.optimizers.Adam(learning_rate = 0.002))\n",
    "    keras.utils.plot_model(model,show_shapes=True,expand_nested=True)\n",
    "    return model"
   ]
  },
  {
   "cell_type": "code",
   "execution_count": 7,
   "id": "cc66ec65-18db-4b36-8783-d062ff38a721",
   "metadata": {},
   "outputs": [],
   "source": [
    "#define data structure to hold 10x results"
   ]
  },
  {
   "cell_type": "code",
   "execution_count": 8,
   "id": "ac6636ab-e2e8-47ab-b24e-5277834fee34",
   "metadata": {},
   "outputs": [
    {
     "name": "stdout",
     "output_type": "stream",
     "text": [
      "5 2 696\n"
     ]
    }
   ],
   "source": [
    "skf = stratifiedRandomSampling()"
   ]
  },
  {
   "cell_type": "code",
   "execution_count": 9,
   "id": "3ceede4a-7364-4947-8b16-a47edc4c9d06",
   "metadata": {
    "tags": []
   },
   "outputs": [
    {
     "data": {
      "text/plain": [
       "array([1., 1., 1., 0., 0., 0., 0., 0., 0., 0., 1., 1., 1., 1., 1., 0., 0.,\n",
       "       0., 0., 1., 0., 1., 1., 1., 1., 1., 0., 0., 0., 1., 1., 1., 1., 1.,\n",
       "       1., 1., 1., 1., 1., 1., 1., 0., 0., 0., 0., 0., 0., 0., 0., 0., 0.,\n",
       "       0., 0., 0., 1., 1., 1., 0., 0., 0., 0., 0., 0., 0., 0., 0., 1., 1.,\n",
       "       1., 1., 1., 1., 1., 1., 1., 0., 0., 0., 0., 1., 1., 0., 0., 1., 0.,\n",
       "       1., 0., 0., 1., 1., 0., 0., 0., 0., 0., 0., 1., 1., 1., 1., 1., 0.,\n",
       "       0., 1., 1., 1., 1., 1., 1., 1., 1., 1., 1., 1., 1., 0., 0., 0., 0.,\n",
       "       0., 0., 0., 0., 0., 0., 0., 0., 0., 0., 0., 0., 0., 0., 0., 0., 1.,\n",
       "       1., 1., 1., 0., 0., 0., 1., 1., 1., 1., 1., 1., 1., 1., 0., 0., 0.,\n",
       "       0., 0., 0., 1., 1., 1., 1., 1., 0., 0., 0., 0., 1., 0., 1., 0., 0.,\n",
       "       0., 0., 0., 0., 1.])"
      ]
     },
     "execution_count": 9,
     "metadata": {},
     "output_type": "execute_result"
    }
   ],
   "source": [
    "y_data_sampled_val"
   ]
  },
  {
   "cell_type": "code",
   "execution_count": 10,
   "id": "88f207dc-cd5b-494a-85a8-9493e1aff981",
   "metadata": {},
   "outputs": [
    {
     "name": "stdout",
     "output_type": "stream",
     "text": [
      "Positive Training Count:  322\n",
      "Negative Training Count:  374\n",
      "Positive Validation Count:  81\n",
      "Negative Validation Count:  94\n"
     ]
    }
   ],
   "source": [
    "counter_train = 0\n",
    "counter_val = 0\n",
    "\n",
    "for x in range(y_data_sampled_train.shape[0]):\n",
    "    if y_data_sampled_train[x] == 1:\n",
    "        counter_train += 1\n",
    "\n",
    "for x in range(y_data_sampled_val.shape[0]):\n",
    "    if y_data_sampled_val[x] == 1:\n",
    "        counter_val += 1\n",
    "\n",
    "print(\"Positive Training Count: \", counter_train)\n",
    "print(\"Negative Training Count: \", 696-counter_train)\n",
    "print(\"Positive Validation Count: \", counter_val)\n",
    "print(\"Negative Validation Count: \", 175-counter_val)"
   ]
  },
  {
   "cell_type": "code",
   "execution_count": null,
   "id": "1cf1f317-947e-4ef8-8067-e8930f2937bc",
   "metadata": {
    "tags": []
   },
   "outputs": [
    {
     "name": "stdout",
     "output_type": "stream",
     "text": [
      "Iteration: 0\n",
      "5 2 696\n",
      "Epoch 1/10\n",
      "44/44 - 2s - loss: 8.7171 - sparse_categorical_accuracy: 0.5273 - val_loss: 0.9563 - val_sparse_categorical_accuracy: 0.6114 - 2s/epoch - 46ms/step\n",
      "Epoch 2/10\n",
      "44/44 - 1s - loss: 0.6767 - sparse_categorical_accuracy: 0.6968 - val_loss: 1.1488 - val_sparse_categorical_accuracy: 0.5829 - 1s/epoch - 31ms/step\n",
      "Epoch 3/10\n",
      "44/44 - 1s - loss: 0.4641 - sparse_categorical_accuracy: 0.7931 - val_loss: 0.7786 - val_sparse_categorical_accuracy: 0.5829 - 1s/epoch - 31ms/step\n",
      "Epoch 4/10\n",
      "44/44 - 1s - loss: 0.3394 - sparse_categorical_accuracy: 0.8635 - val_loss: 0.7571 - val_sparse_categorical_accuracy: 0.6400 - 1s/epoch - 30ms/step\n",
      "Epoch 5/10\n",
      "44/44 - 1s - loss: 0.4258 - sparse_categorical_accuracy: 0.8204 - val_loss: 0.8108 - val_sparse_categorical_accuracy: 0.6400 - 1s/epoch - 31ms/step\n",
      "Epoch 6/10\n",
      "44/44 - 1s - loss: 0.6813 - sparse_categorical_accuracy: 0.7658 - val_loss: 0.9201 - val_sparse_categorical_accuracy: 0.6457 - 1s/epoch - 31ms/step\n",
      "Epoch 7/10\n",
      "44/44 - 1s - loss: 0.4479 - sparse_categorical_accuracy: 0.8175 - val_loss: 1.1947 - val_sparse_categorical_accuracy: 0.5714 - 1s/epoch - 30ms/step\n",
      "Epoch 8/10\n",
      "44/44 - 1s - loss: 0.2872 - sparse_categorical_accuracy: 0.8879 - val_loss: 0.8431 - val_sparse_categorical_accuracy: 0.6286 - 1s/epoch - 31ms/step\n",
      "Epoch 9/10\n",
      "44/44 - 1s - loss: 0.2294 - sparse_categorical_accuracy: 0.9080 - val_loss: 0.9145 - val_sparse_categorical_accuracy: 0.6057 - 1s/epoch - 31ms/step\n",
      "Epoch 10/10\n",
      "44/44 - 1s - loss: 0.1531 - sparse_categorical_accuracy: 0.9440 - val_loss: 1.0055 - val_sparse_categorical_accuracy: 0.5943 - 1s/epoch - 31ms/step\n",
      "6/6 [==============================] - 0s 9ms/step\n",
      "Iteration: 1\n",
      "5 2 696\n",
      "Epoch 1/10\n",
      "44/44 - 2s - loss: 9.8789 - sparse_categorical_accuracy: 0.5330 - val_loss: 0.6518 - val_sparse_categorical_accuracy: 0.6857 - 2s/epoch - 55ms/step\n",
      "Epoch 2/10\n",
      "44/44 - 1s - loss: 0.8287 - sparse_categorical_accuracy: 0.6480 - val_loss: 0.9931 - val_sparse_categorical_accuracy: 0.5429 - 1s/epoch - 32ms/step\n",
      "Epoch 3/10\n",
      "44/44 - 1s - loss: 0.5738 - sparse_categorical_accuracy: 0.7270 - val_loss: 0.6034 - val_sparse_categorical_accuracy: 0.6914 - 1s/epoch - 31ms/step\n",
      "Epoch 4/10\n",
      "44/44 - 1s - loss: 0.4997 - sparse_categorical_accuracy: 0.7701 - val_loss: 0.8129 - val_sparse_categorical_accuracy: 0.6057 - 1s/epoch - 31ms/step\n",
      "Epoch 5/10\n",
      "44/44 - 1s - loss: 0.4692 - sparse_categorical_accuracy: 0.8089 - val_loss: 0.5856 - val_sparse_categorical_accuracy: 0.6857 - 1s/epoch - 32ms/step\n",
      "Epoch 6/10\n",
      "44/44 - 1s - loss: 0.3376 - sparse_categorical_accuracy: 0.8606 - val_loss: 0.6403 - val_sparse_categorical_accuracy: 0.6686 - 1s/epoch - 31ms/step\n",
      "Epoch 7/10\n",
      "44/44 - 1s - loss: 0.3063 - sparse_categorical_accuracy: 0.8822 - val_loss: 0.7477 - val_sparse_categorical_accuracy: 0.6571 - 1s/epoch - 31ms/step\n",
      "Epoch 8/10\n",
      "44/44 - 1s - loss: 0.2405 - sparse_categorical_accuracy: 0.9152 - val_loss: 0.6682 - val_sparse_categorical_accuracy: 0.6286 - 1s/epoch - 31ms/step\n",
      "Epoch 9/10\n",
      "44/44 - 1s - loss: 0.4907 - sparse_categorical_accuracy: 0.8175 - val_loss: 1.0422 - val_sparse_categorical_accuracy: 0.6400 - 1s/epoch - 31ms/step\n",
      "Epoch 10/10\n",
      "44/44 - 1s - loss: 0.3257 - sparse_categorical_accuracy: 0.8779 - val_loss: 0.7147 - val_sparse_categorical_accuracy: 0.6743 - 1s/epoch - 32ms/step\n",
      "6/6 [==============================] - 0s 9ms/step\n",
      "Iteration: 2\n",
      "5 2 696\n",
      "Epoch 1/10\n",
      "44/44 - 2s - loss: 7.7605 - sparse_categorical_accuracy: 0.5445 - val_loss: 1.6994 - val_sparse_categorical_accuracy: 0.5257 - 2s/epoch - 49ms/step\n",
      "Epoch 2/10\n",
      "44/44 - 1s - loss: 0.7642 - sparse_categorical_accuracy: 0.7040 - val_loss: 1.0040 - val_sparse_categorical_accuracy: 0.5886 - 1s/epoch - 33ms/step\n",
      "Epoch 3/10\n",
      "44/44 - 1s - loss: 1.0009 - sparse_categorical_accuracy: 0.6868 - val_loss: 1.9904 - val_sparse_categorical_accuracy: 0.5543 - 1s/epoch - 33ms/step\n",
      "Epoch 4/10\n",
      "44/44 - 1s - loss: 0.8082 - sparse_categorical_accuracy: 0.7198 - val_loss: 1.4755 - val_sparse_categorical_accuracy: 0.5600 - 1s/epoch - 33ms/step\n",
      "Epoch 5/10\n",
      "44/44 - 1s - loss: 0.4275 - sparse_categorical_accuracy: 0.8003 - val_loss: 0.7126 - val_sparse_categorical_accuracy: 0.7029 - 1s/epoch - 33ms/step\n",
      "Epoch 6/10\n",
      "44/44 - 1s - loss: 0.3650 - sparse_categorical_accuracy: 0.8420 - val_loss: 0.7291 - val_sparse_categorical_accuracy: 0.6629 - 1s/epoch - 33ms/step\n",
      "Epoch 7/10\n",
      "44/44 - 1s - loss: 0.2271 - sparse_categorical_accuracy: 0.9181 - val_loss: 0.7464 - val_sparse_categorical_accuracy: 0.6686 - 1s/epoch - 33ms/step\n",
      "Epoch 8/10\n",
      "44/44 - 1s - loss: 0.4027 - sparse_categorical_accuracy: 0.8376 - val_loss: 0.8579 - val_sparse_categorical_accuracy: 0.6343 - 1s/epoch - 34ms/step\n",
      "Epoch 9/10\n",
      "44/44 - 1s - loss: 0.2775 - sparse_categorical_accuracy: 0.8894 - val_loss: 0.9628 - val_sparse_categorical_accuracy: 0.6400 - 1s/epoch - 34ms/step\n",
      "Epoch 10/10\n",
      "44/44 - 1s - loss: 0.2250 - sparse_categorical_accuracy: 0.9224 - val_loss: 0.8121 - val_sparse_categorical_accuracy: 0.6743 - 1s/epoch - 32ms/step\n",
      "6/6 [==============================] - 0s 9ms/step\n",
      "Iteration: 3\n",
      "5 2 696\n"
     ]
    }
   ],
   "source": [
    "correct = 0\n",
    "total = 175\n",
    "labels_accuracy = 0.0\n",
    "labels_accuracy_storage = np.empty(10,dtype=float)\n",
    "results = np.empty((10,4), dtype=float)\n",
    "\n",
    "#10 times cross validation\n",
    "for x in range(10):\n",
    "    print(\"Iteration:\", x)\n",
    "    stratifiedRandomSampling()\n",
    "    model = modelConstructor()\n",
    "    history = model.fit(x_data_sampled_train, y_data_sampled_train,\n",
    "                epochs=10,\n",
    "                verbose=2,\n",
    "                batch_size=16,\n",
    "                validation_data=(x_data_sampled_val,y_data_sampled_val))\n",
    "    \n",
    "    loss = history.history['loss']\n",
    "    accuracy = history.history['sparse_categorical_accuracy']\n",
    "    val_loss = history.history['val_loss']\n",
    "    val_accuracy = history.history['val_sparse_categorical_accuracy']\n",
    "    \n",
    "    #get final results using last indexes\n",
    "    results[x][0] = loss[-1]\n",
    "    results[x][1] = accuracy[-1]\n",
    "    results[x][2] = val_loss[-1]\n",
    "    results[x][3] = val_accuracy[-1]\n",
    "    \n",
    "    output = model.predict(x_data_sampled_val[0:])\n",
    "    np.argmax(output,axis=1)\n",
    "    \n",
    "    correct = 0\n",
    "    \n",
    "    for b in range(175):\n",
    "        temp1 = output[b][0]\n",
    "        temp2 = y_data_sampled_val[b]\n",
    "        if temp1 == temp2:\n",
    "            correct += 1\n",
    "    \n",
    "    labels_accuracy = correct/total\n",
    "    labels_accuracy_storage[x] = labels_accuracy\n",
    "    \n",
    "loss_avg = 0.0\n",
    "accuracy_avg = 0.0\n",
    "val_loss_avg = 0.0\n",
    "val_accuracy_avg = 0.0\n",
    "labels_accuracy_avg = 0.0\n",
    "\n",
    "for a in range(10):\n",
    "    loss_avg += results[x][0]\n",
    "for a in range(10):\n",
    "    accuracy_avg += results[x][1]\n",
    "for a in range(10):\n",
    "    val_loss_avg += results[x][2]\n",
    "for a in range(10):\n",
    "    val_accuracy_avg += results[x][3]\n",
    "    \n",
    "loss_avg = loss_avg / 10\n",
    "accuracy_avg = accuracy_avg / 10 * 100\n",
    "val_loss_avg = val_loss_avg / 10\n",
    "val_accuracy_avg = val_accuracy_avg / 10 * 100\n",
    "\n",
    "for a in range(10):\n",
    "    labels_accuracy_avg += labels_accuracy_storage[x][0]\n",
    "    \n",
    "labels_accuracy_avg = labels_accuracy_avg / 10 * 100\n",
    "\n",
    "print(\"Training Loss Average: {a:1.5f}\".format(a = loss_avg))\n",
    "print(\"Training Accuracy Average: {a:1.2f}%\".format(a = accuracy_avg))\n",
    "print(\"Validation Loss Average: {a:1.5f}\".format(a = val_loss_avg))\n",
    "print(\"Validation Accuracy Average: {a:1.5f}%\".format(a = val_accuracy_avg))\n",
    "print(\"Label Accuracy Average: {a:1.2f}%\".format(a = labels_accuracy_avg))"
   ]
  },
  {
   "cell_type": "code",
   "execution_count": 1,
   "id": "7588527b-c545-4f68-9f09-3e4dbb241b48",
   "metadata": {},
   "outputs": [],
   "source": [
    "#output"
   ]
  },
  {
   "cell_type": "code",
   "execution_count": null,
   "id": "732cffa6-347b-48bf-93b8-23b1cf4abcb2",
   "metadata": {},
   "outputs": [],
   "source": []
  }
 ],
 "metadata": {
  "kernelspec": {
   "display_name": "Python 3 (ipykernel)",
   "language": "python",
   "name": "python3"
  },
  "language_info": {
   "codemirror_mode": {
    "name": "ipython",
    "version": 3
   },
   "file_extension": ".py",
   "mimetype": "text/x-python",
   "name": "python",
   "nbconvert_exporter": "python",
   "pygments_lexer": "ipython3",
   "version": "3.10.8"
  }
 },
 "nbformat": 4,
 "nbformat_minor": 5
}
