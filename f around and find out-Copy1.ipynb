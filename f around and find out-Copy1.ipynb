{
 "cells": [
  {
   "cell_type": "code",
   "execution_count": 1,
   "id": "0f1ebd2e-9cd9-47f9-8647-500cf9e339b7",
   "metadata": {},
   "outputs": [],
   "source": [
    "import numpy as np"
   ]
  },
  {
   "cell_type": "code",
   "execution_count": 2,
   "id": "5b8146fe-5baa-4352-9d9a-bcf2ad036225",
   "metadata": {},
   "outputs": [],
   "source": [
    "x_data = np.loadtxt('/home/jovyan/2023 Research/CC200_X_corr.csv', delimiter = ',')"
   ]
  },
  {
   "cell_type": "code",
   "execution_count": 3,
   "id": "ae1c4bb3-ec3e-49e8-8a6f-dc3890ebc66b",
   "metadata": {},
   "outputs": [
    {
     "data": {
      "text/plain": [
       "(871, 20100)"
      ]
     },
     "execution_count": 3,
     "metadata": {},
     "output_type": "execute_result"
    }
   ],
   "source": [
    "x_data.shape"
   ]
  },
  {
   "cell_type": "code",
   "execution_count": 5,
   "id": "6e5ba46f-2113-4cb4-9f54-5a68b929c34c",
   "metadata": {},
   "outputs": [],
   "source": [
    "transformed = np.empty(1005)\n",
    "x_data_new = np.empty((871,1005))"
   ]
  },
  {
   "cell_type": "code",
   "execution_count": 12,
   "id": "dafc929f-ee86-4fdf-b972-41e8949d377f",
   "metadata": {},
   "outputs": [],
   "source": [
    "def operation(pos):\n",
    "\n",
    "    temp_data = np.empty(4)\n",
    "    grouped = np.empty(5025)\n",
    "\n",
    "    #start is starting index of operation\n",
    "    x = 0\n",
    "\n",
    "    for c in range(5025):\n",
    "        #take average of 4 grouped data points\n",
    "        temp = (x_data[pos][x] + x_data[pos][x+1] + x_data[pos][x+2] + x_data[pos][x+3]) / 4\n",
    "        grouped[c] = 1/(1 + np.exp(-temp))\n",
    "        #reLu operation\n",
    "        #if grouped[c] <= 0:\n",
    "            #grouped[c] = 0\n",
    "        x+=4\n",
    "\n",
    "    counter = 0\n",
    "\n",
    "    #max pooling\n",
    "    for y in range(1005):\n",
    "        max = grouped[counter] \n",
    "        if max < grouped[counter+1]:\n",
    "            max = grouped[counter+1]\n",
    "        if max < grouped[counter+2]:\n",
    "            max = grouped[counter+2]\n",
    "        if max < grouped[counter+3]:\n",
    "            max = grouped[counter+3]\n",
    "        if max < grouped[counter+4]:\n",
    "            max = grouped[counter+4]\n",
    "        x_data_new[pos][y] = max\n",
    "        counter += 5"
   ]
  },
  {
   "cell_type": "code",
   "execution_count": 13,
   "id": "d77b68d0-825d-4631-985f-1fcdcfe62a64",
   "metadata": {},
   "outputs": [],
   "source": [
    "for z in range(871):\n",
    "    operation(z)"
   ]
  },
  {
   "cell_type": "code",
   "execution_count": 14,
   "id": "eb76604e-bf52-45bc-8f2b-03b50792dcca",
   "metadata": {},
   "outputs": [
    {
     "name": "stdout",
     "output_type": "stream",
     "text": [
      "[[0.65050356 0.61308793 0.60965277 ... 0.61199227 0.60341942 0.63699247]\n",
      " [0.61723516 0.5879927  0.59814396 ... 0.58721288 0.59472033 0.59141488]\n",
      " [0.62562287 0.59932712 0.63819688 ... 0.55043188 0.54728541 0.57191082]\n",
      " ...\n",
      " [0.60575882 0.59264916 0.60412633 ... 0.58585002 0.5950557  0.58661813]\n",
      " [0.58301844 0.56641714 0.57242556 ... 0.52351101 0.52668821 0.56792629]\n",
      " [0.61421862 0.61679054 0.61660688 ... 0.58142637 0.59537822 0.58768377]]\n"
     ]
    }
   ],
   "source": [
    "print(x_data_new)"
   ]
  },
  {
   "cell_type": "code",
   "execution_count": 8,
   "id": "2b86371c-b13e-4448-9138-4bc477f58215",
   "metadata": {},
   "outputs": [
    {
     "name": "stdout",
     "output_type": "stream",
     "text": [
      "[[ 7.07106781e-01  4.83429896e-01  7.07106781e-01 ...  4.02426613e-01\n",
      "   2.87545309e-01  7.07106781e-01]\n",
      " [ 7.07106781e-01  2.05920464e-01  7.07106781e-01 ...  2.31941167e-01\n",
      "  -3.09052902e-02  7.07106781e-01]\n",
      " [ 7.07106781e-01  2.26044758e-01  7.07106781e-01 ...  1.77765152e-01\n",
      "  -8.09202474e-02  7.07106781e-01]\n",
      " ...\n",
      " [ 7.07106781e-01  6.62332106e-03  7.07106781e-01 ...  1.30890985e-01\n",
      "   3.23909964e-02  7.07106781e-01]\n",
      " [ 7.07106781e-01 -9.12530743e-02  7.07106781e-01 ...  1.22021038e-01\n",
      "  -3.46776199e-02  7.07106781e-01]\n",
      " [ 7.07106781e-01  2.00401269e-01  7.07106781e-01 ...  3.32824492e-01\n",
      "  -2.04176731e-04  7.07106781e-01]]\n"
     ]
    }
   ],
   "source": [
    "print(x_data)"
   ]
  },
  {
   "cell_type": "code",
   "execution_count": null,
   "id": "eef560ae-7bea-4154-b67e-126b51053360",
   "metadata": {},
   "outputs": [],
   "source": []
  }
 ],
 "metadata": {
  "kernelspec": {
   "display_name": "Python 3 (ipykernel)",
   "language": "python",
   "name": "python3"
  },
  "language_info": {
   "codemirror_mode": {
    "name": "ipython",
    "version": 3
   },
   "file_extension": ".py",
   "mimetype": "text/x-python",
   "name": "python",
   "nbconvert_exporter": "python",
   "pygments_lexer": "ipython3",
   "version": "3.11.4"
  }
 },
 "nbformat": 4,
 "nbformat_minor": 5
}
